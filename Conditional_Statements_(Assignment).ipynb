{
  "cells": [
    {
      "cell_type": "markdown",
      "metadata": {
        "id": "EVz9_d0T407l"
      },
      "source": [
        "1) A company decided to give bonus of 5% to employee if his/her year of service is more than 5 years.\n",
        "Ask user for their salary and year of service and print the net bonus amount."
      ]
    },
    {
      "cell_type": "code",
      "execution_count": 4,
      "metadata": {
        "id": "TGK4-ynA407z",
        "outputId": "fb663ee2-9da8-481c-d1da-02e587f3a76d",
        "colab": {
          "base_uri": "https://localhost:8080/"
        }
      },
      "outputs": [
        {
          "output_type": "stream",
          "name": "stdout",
          "text": [
            "enter salary = 50000\n",
            "enter year of service6\n",
            "Net bonus =  2500.0\n"
          ]
        }
      ],
      "source": [
        "salary = int(input(\"enter salary = \"))\n",
        "yos = int(input(\"enter year of service = \"))\n",
        "if yos > 5 :\n",
        "  bonus = 0.05 * salary\n",
        "  print(\"Net bonus = \",bonus)\n",
        "elif yos < 5:\n",
        "  print(\"You are not elligible for bonus\")"
      ]
    },
    {
      "cell_type": "markdown",
      "metadata": {
        "id": "-9HKcj6x4072"
      },
      "source": [
        "\n",
        "2) Write a program to check whether a person is eligible for voting or not. (accept age from user) if age is greater than 17 eligible otherwise not eligible"
      ]
    },
    {
      "cell_type": "code",
      "execution_count": 6,
      "metadata": {
        "id": "NlS9wIOR4073",
        "outputId": "c7123403-6566-4c27-852d-5d8b827aef5d",
        "colab": {
          "base_uri": "https://localhost:8080/"
        }
      },
      "outputs": [
        {
          "output_type": "stream",
          "name": "stdout",
          "text": [
            "Enter age 12\n",
            "you are not eligible \n"
          ]
        }
      ],
      "source": [
        "age = int(input(\"Enter age \"))\n",
        "if age > 17 :\n",
        "  print(\"You are eligible for voting\")\n",
        "else:\n",
        "  print(\"you are not eligible \")"
      ]
    },
    {
      "cell_type": "markdown",
      "metadata": {
        "id": "gFZTgwIh4075"
      },
      "source": [
        "\n",
        "3) Write a program to check whether a number entered by user is even or odd."
      ]
    },
    {
      "cell_type": "code",
      "execution_count": 9,
      "metadata": {
        "id": "Qd7BLgi54076",
        "outputId": "aea3e90b-326b-45d0-a3e2-fe83d3f760a9",
        "colab": {
          "base_uri": "https://localhost:8080/"
        }
      },
      "outputs": [
        {
          "output_type": "stream",
          "name": "stdout",
          "text": [
            "Enter a number = 4\n",
            "Number is even\n"
          ]
        }
      ],
      "source": [
        "num = int(input(\"Enter a number = \"))\n",
        "if num % 2 == 0 :\n",
        "  print(\"Number is even\")\n",
        "else :\n",
        "  print(\"Number is odd\")\n"
      ]
    },
    {
      "cell_type": "markdown",
      "metadata": {
        "id": "yNJdhSHQ4077"
      },
      "source": [
        "4) Write a program to check whether a number is divisible by 7 or not.\n",
        "Show Answer"
      ]
    },
    {
      "cell_type": "code",
      "execution_count": 11,
      "metadata": {
        "id": "tZF2PzL04078",
        "outputId": "d0f61018-da5f-40f5-c621-983025dbf6fe",
        "colab": {
          "base_uri": "https://localhost:8080/"
        }
      },
      "outputs": [
        {
          "output_type": "stream",
          "name": "stdout",
          "text": [
            "Enter a number = 4\n",
            "Number is not divisible by 7\n"
          ]
        }
      ],
      "source": [
        "num = int(input(\"Enter a number = \"))\n",
        "if num % 7 == 0 :\n",
        "  print(\"Number is divisible by 7\")\n",
        "else :\n",
        "  print(\"Number is not divisible by 7\")"
      ]
    },
    {
      "cell_type": "markdown",
      "metadata": {
        "id": "H5DDBzJV407-"
      },
      "source": [
        "5) Write a program to display\n",
        "\"Hello\" if a number entered by user is a multiple of five , otherwise print \"Bye\"."
      ]
    },
    {
      "cell_type": "code",
      "execution_count": 13,
      "metadata": {
        "id": "jtfw4gzn407-",
        "outputId": "ec4abb71-6d46-4000-c0d0-cad0589d0c62",
        "colab": {
          "base_uri": "https://localhost:8080/"
        }
      },
      "outputs": [
        {
          "output_type": "stream",
          "name": "stdout",
          "text": [
            "Enter a number = 25\n",
            "hello\n"
          ]
        }
      ],
      "source": [
        "num = int(input(\"Enter a number = \"))\n",
        "if num % 5 == 0 :\n",
        "  print(\"hello\")\n",
        "else :\n",
        "  print(\"bye\")"
      ]
    },
    {
      "cell_type": "markdown",
      "metadata": {
        "id": "E0R1WVMM407_"
      },
      "source": [
        "7) Write a program to display the last digit of a number.\n"
      ]
    },
    {
      "cell_type": "code",
      "execution_count": 18,
      "metadata": {
        "id": "HSuT3aLP408A",
        "outputId": "06823d50-b8bb-442b-bcf9-3123eef96b78",
        "colab": {
          "base_uri": "https://localhost:8080/"
        }
      },
      "outputs": [
        {
          "output_type": "stream",
          "name": "stdout",
          "text": [
            "Enter a number 54\n",
            "4\n"
          ]
        }
      ],
      "source": [
        "num = int(input(\"Enter a number \"))\n",
        "ld = int(num%10)\n",
        "print(ld)"
      ]
    },
    {
      "cell_type": "markdown",
      "metadata": {
        "id": "5rEVvbeZ408A"
      },
      "source": [
        "9) Take values of length and breadth of a rectangle from user and print if it is square or rectangle."
      ]
    },
    {
      "cell_type": "code",
      "execution_count": 20,
      "metadata": {
        "id": "KDFIkJwn408B",
        "outputId": "8b396ca0-d5da-4cfc-85f7-009bbe653113",
        "colab": {
          "base_uri": "https://localhost:8080/"
        }
      },
      "outputs": [
        {
          "output_type": "stream",
          "name": "stdout",
          "text": [
            "Enter lenght = 10\n",
            "Enter breath = 10\n",
            "Shape is square\n"
          ]
        }
      ],
      "source": [
        "lenght = int(input(\"Enter lenght = \"))\n",
        "breath = int(input(\"Enter breath = \"))\n",
        "if lenght == breath :\n",
        "  print(\"Shape is square\")\n",
        "else :\n",
        "  print(\"shape is rectangle\")\n"
      ]
    },
    {
      "cell_type": "markdown",
      "metadata": {
        "id": "kb19cMzy408B"
      },
      "source": [
        "10) Take two int values from user and print greatest among them."
      ]
    },
    {
      "cell_type": "code",
      "execution_count": 21,
      "metadata": {
        "id": "vOrL0gCL408C",
        "outputId": "c4a4c470-181f-4544-c72d-9ab198a101c8",
        "colab": {
          "base_uri": "https://localhost:8080/"
        }
      },
      "outputs": [
        {
          "output_type": "stream",
          "name": "stdout",
          "text": [
            "Enter  first number = 1\n",
            "Enter second number = 2\n",
            "second number is greater\n"
          ]
        }
      ],
      "source": [
        "num1 = int(input(\"Enter  first number = \"))\n",
        "num2 = int(input(\"Enter second number = \"))\n",
        "if num1 > num2 :\n",
        "  print(\"first number is greater = \",num1)\n",
        "elif num1 < num2 :\n",
        "  print (\"second number is greater\")"
      ]
    },
    {
      "cell_type": "markdown",
      "metadata": {
        "id": "hdV2GHAr408C"
      },
      "source": [
        "11) A shop will give discount of 10% if the cost of purchased quantity is more than 1000.\n",
        "Ask user for quantity\n",
        "Suppose, one unit will cost 100.\n",
        "Judge and print total cost for user."
      ]
    },
    {
      "cell_type": "code",
      "execution_count": 24,
      "metadata": {
        "id": "7ctOvqbv408D",
        "outputId": "9d7a2e81-14ee-4bac-b742-7406acfdf281",
        "colab": {
          "base_uri": "https://localhost:8080/"
        }
      },
      "outputs": [
        {
          "output_type": "stream",
          "name": "stdout",
          "text": [
            "Enter quantity = 12\n",
            "Total price =  1200\n",
            "Discout =  120.0\n",
            "Total price after discount =  1080.0\n"
          ]
        }
      ],
      "source": [
        "quant = int(input(\"Enter quantity = \"))\n",
        "tot= quant * 100\n",
        "if tot > 1000 :\n",
        "  dis = 0.1 * tot\n",
        "  tc = tot - dis\n",
        "  print(\"Total price = \",tot)\n",
        "  print(\"Discout = \",dis)\n",
        "  print(\"Total price after discount = \",tc)\n",
        "else :\n",
        "  print(\"Total price = \",tot)\n",
        "  print(\"Discout = 0\")\n",
        "  print(\"Total price after discount = \",tot)\n"
      ]
    },
    {
      "cell_type": "markdown",
      "metadata": {
        "id": "h8r5kiG3408D"
      },
      "source": [
        "12) A school has following rules for grading system:\n",
        "\n",
        "a. Below 25 - F\n",
        "\n",
        "b. 25 to 45 - E\n",
        "\n",
        "c. 45 to 50 - D\n",
        "\n",
        "d. 50 to 60 - C\n",
        "\n",
        "e. 60 to 80 - B\n",
        "\n",
        "f. Above 80 - A\n",
        "\n",
        "Ask user to enter marks and print the corresponding grade."
      ]
    },
    {
      "cell_type": "code",
      "execution_count": 27,
      "metadata": {
        "id": "THmEp3wP408E",
        "outputId": "7659902f-b002-42fd-c277-b72e4660f295",
        "colab": {
          "base_uri": "https://localhost:8080/"
        }
      },
      "outputs": [
        {
          "output_type": "stream",
          "name": "stdout",
          "text": [
            "Enter marks = 75\n",
            "Grade = B\n"
          ]
        }
      ],
      "source": [
        "marks = int(input(\"Enter marks = \"))\n",
        "if marks < 25 :\n",
        "  print(\"Grade = F\")\n",
        "elif marks > 25 and marks < 45 :\n",
        "  print(\"Grade = E\")\n",
        "elif marks > 45 and marks < 50 :\n",
        "  print(\"Grade = D\")\n",
        "elif marks > 50 and marks < 60 :\n",
        "  print(\"Grade = C\")\n",
        "elif marks > 60 and marks < 80 :\n",
        "  print(\"Grade = B\")\n",
        "elif marks > 80 :\n",
        "  print(\"Grade = A\")"
      ]
    },
    {
      "cell_type": "markdown",
      "metadata": {
        "id": "pWjdA1cp408E"
      },
      "source": [
        "14)A student will not be allowed to sit in exam if his/her attendence is less than 75%.\n",
        "\n",
        "Take following input from user\n",
        "\n",
        "Number of classes held\n",
        "\n",
        "Number of classes attended.\n",
        "\n",
        "And print\n",
        "\n",
        "percentage of class attended\n",
        "\n",
        "Is student is allowed to sit in exam or not.\n"
      ]
    },
    {
      "cell_type": "code",
      "execution_count": 32,
      "metadata": {
        "id": "6pi4Ij1o408E",
        "outputId": "2a603ad8-0c02-43f7-9f06-f3c57218453c",
        "colab": {
          "base_uri": "https://localhost:8080/"
        }
      },
      "outputs": [
        {
          "output_type": "stream",
          "name": "stdout",
          "text": [
            "Enter the number of classes held = 50\n",
            "Enter the number of classes attended = 45\n",
            "Attendece percentage =  90.0\n",
            "you are allowed to sit in exam \n"
          ]
        }
      ],
      "source": [
        "ch = int(input(\"Enter the number of classes held = \"))\n",
        "ca = int(input(\"Enter the number of classes attended = \"))\n",
        "attend = (ca/ch)*100\n",
        "print(\"Attendece percentage = \",attend)\n",
        "if attend > 75 :\n",
        "  print(\"You are allowed to sit in exam \")\n",
        "else:\n",
        "  print(\"You are not allowed to sit in exam \")"
      ]
    },
    {
      "cell_type": "markdown",
      "metadata": {
        "id": "DzBkXOGA408F"
      },
      "source": [
        "15) Modify the above question to allow student to sit if he/she has medical cause. Ask user if he/she has medical cause or not ( 'Y' or 'N' ) and print accordingly."
      ]
    },
    {
      "cell_type": "code",
      "execution_count": 33,
      "metadata": {
        "id": "PbDcA_xK408F",
        "outputId": "7f6d5656-2ccd-4d04-edc2-550c92f32612",
        "colab": {
          "base_uri": "https://localhost:8080/"
        }
      },
      "outputs": [
        {
          "output_type": "stream",
          "name": "stdout",
          "text": [
            "Enter the number of classes held = 50\n",
            "Enter the number of classes attended = 30\n",
            "medical case (Y/N) = Y\n",
            "Attendece percentage =  60.0\n",
            "You are allowed to sit in exam \n"
          ]
        }
      ],
      "source": [
        "ch = int(input(\"Enter the number of classes held = \"))\n",
        "ca = int(input(\"Enter the number of classes attended = \"))\n",
        "med = input(\"medical case (Y/N) = \")\n",
        "attend = (ca/ch)*100\n",
        "print(\"Attendece percentage = \",attend)\n",
        "if attend > 75 :\n",
        "  print(\"You are allowed to sit in exam \")\n",
        "elif attend < 75 and med == 'Y':\n",
        "  print(\"You are allowed to sit in exam \")\n",
        "elif attend < 75 and med == 'N':\n",
        "  print(\"You are not allowed to sit in exam \")\n"
      ]
    },
    {
      "cell_type": "markdown",
      "metadata": {
        "id": "TpIne6-a408F"
      },
      "source": [
        "16) Write a program to check if a year is leap year or not.\n",
        "\n",
        "If a year is divisible by 4 then it is leap year but if the year is century year like 2000, 1900, 2100 then it must be divisible by 400."
      ]
    },
    {
      "cell_type": "code",
      "execution_count": 14,
      "metadata": {
        "id": "_HjS-mhI408G",
        "outputId": "9db0aaf5-deac-481a-c5eb-2e763951fd43",
        "colab": {
          "base_uri": "https://localhost:8080/"
        }
      },
      "outputs": [
        {
          "output_type": "stream",
          "name": "stdout",
          "text": [
            "Enter a year: 2005\n",
            "2005 is not a leap year.\n"
          ]
        }
      ],
      "source": [
        "year = int(input(\"Enter a year: \"))\n",
        "\n",
        "if year % 4 == 0:\n",
        "    if year % 100 == 0:\n",
        "        if year % 400 == 0:\n",
        "            print(year, \"is a leap year.\")\n",
        "        else:\n",
        "            print(year, \"is not a leap year.\")\n",
        "    else:\n",
        "        print(year, \"is a leap year.\")\n",
        "else:\n",
        "    print(year, \"is not a leap year.\")\n"
      ]
    },
    {
      "cell_type": "markdown",
      "metadata": {
        "id": "vvF-I9l9408G"
      },
      "source": [
        "17) Ask user to enter age, gender ( M or F ), marital status ( Y or N ) and then using following rules print their place of service.\n",
        "\n",
        "if employee is female, then she will work only in urban areas.\n",
        "\n",
        "if employee is a male and age is in between 20 to 40 then he may work in anywhere\n",
        "\n",
        "if employee is male and age is in between 40 t0 60 then he will work in urban areas only.\n",
        "\n",
        "And any other input of age should print \"ERROR\""
      ]
    },
    {
      "cell_type": "code",
      "execution_count": 3,
      "metadata": {
        "id": "qYJ4hJOK408G",
        "outputId": "d7b6f070-e4e7-4bcc-8b70-6af65787b119",
        "colab": {
          "base_uri": "https://localhost:8080/"
        }
      },
      "outputs": [
        {
          "output_type": "stream",
          "name": "stdout",
          "text": [
            "Enter age = 30\n",
            "Enter gender (M/F) = M\n",
            "Enter merital status (Y/N) = Y\n",
            "Work anywhere\n"
          ]
        }
      ],
      "source": [
        "age = int(input(\"Enter age = \"))\n",
        "gender = str(input(\"Enter gender (M/F) = \"))\n",
        "ms = str(input(\"Enter merital status (Y/N) = \"))\n",
        "if gender == 'F' :\n",
        "  print(\"Work in urban area\")\n",
        "elif gender == 'M' and age > 20 and age < 40 :\n",
        "  print (\"Work anywhere\")\n",
        "elif gender == 'M' and age > 40 and age < 60 :\n",
        "  print(\"Work in urban area\")\n",
        "else :\n",
        "  print(\"ERROR\")"
      ]
    },
    {
      "cell_type": "markdown",
      "metadata": {
        "id": "cR0rbhXL408I"
      },
      "source": [
        "6) Write a program to calculate the electricity bill (accept number of unit from user) according to the following criteria :\n",
        "     Unit                                                     Price  \n",
        "uptp 100 units                                             no charge\n",
        "Next 200 units                                              Rs 5 per unit\n",
        "After 200 units                                             Rs 10 per unit\n",
        "(For example if input unit is 350 than total bill amount is Rs.3500\n",
        "(For example if input unit is 97 than total bill amount is Rs.0\n",
        "(For example if input unit is 150 than total bill amount is Rs.750"
      ]
    },
    {
      "cell_type": "code",
      "source": [
        "units = int(input(\"Enter number of units = \"))\n",
        "if units <= 100:\n",
        " print(\"0\")\n",
        "elif units <= 300:\n",
        "  price=(units - 100) * 5\n",
        "  print(price)\n",
        "else:\n",
        "  price=(200 * 5) + (units - 300) * 10\n",
        "  print(price)"
      ],
      "metadata": {
        "id": "DnPQGIBBmGGs",
        "outputId": "e58d88cc-669a-43d3-b2ce-b28c24af0b14",
        "colab": {
          "base_uri": "https://localhost:8080/"
        }
      },
      "execution_count": 8,
      "outputs": [
        {
          "output_type": "stream",
          "name": "stdout",
          "text": [
            "Enter number of units = 150\n",
            "250\n"
          ]
        }
      ]
    },
    {
      "cell_type": "markdown",
      "metadata": {
        "id": "5qOOCx_J408I"
      },
      "source": [
        "13) Take input of age of 3 people by user and determine oldest and youngest among them."
      ]
    },
    {
      "cell_type": "code",
      "execution_count": 12,
      "metadata": {
        "id": "uvy11D4G408I",
        "outputId": "9eec12b5-5853-41bc-c58f-1ab86abc8e5d",
        "colab": {
          "base_uri": "https://localhost:8080/"
        }
      },
      "outputs": [
        {
          "output_type": "stream",
          "name": "stdout",
          "text": [
            "Enter age  of person 1 =20\n",
            "Enter age  of person 2 =45\n",
            "Enter age  of person 3 =18\n",
            "persion 2 is oldest\n",
            "person 3 is youngest\n"
          ]
        }
      ],
      "source": [
        "per1=int(input(\"Enter age  of person 1 =\"))\n",
        "per2=int(input(\"Enter age  of person 2 =\"))\n",
        "per3=int(input(\"Enter age  of person 3 =\"))\n",
        "\n",
        "if per1 > per2 and per1 > per3:\n",
        "  print(\"persion 1 is oldest\")\n",
        "  if per2 < per3 :\n",
        "    print(\"person 2 is youngest\")\n",
        "  else:\n",
        "    print(\"person 3 is youngest \")\n",
        "if per2 > per1 and per2 > per3:\n",
        "  print(\"persion 2 is oldest\")\n",
        "  if per1>per3:\n",
        "    print(\"person 3 is youngest\")\n",
        "  else :\n",
        "    print(\"person 1 is youngest\")\n",
        "if per3 > per1 and per3 > per2:\n",
        "  print(\"persion 3 is oldest\")\n",
        "  if per1 > per2:\n",
        "    print(\"person 2 is youngest \")\n",
        "  else :\n",
        "    print(\"person 1 is youngest \")\n",
        "\n"
      ]
    }
  ],
  "metadata": {
    "kernelspec": {
      "display_name": "Python 3 (ipykernel)",
      "language": "python",
      "name": "python3"
    },
    "language_info": {
      "codemirror_mode": {
        "name": "ipython",
        "version": 3
      },
      "file_extension": ".py",
      "mimetype": "text/x-python",
      "name": "python",
      "nbconvert_exporter": "python",
      "pygments_lexer": "ipython3",
      "version": "3.11.5"
    },
    "colab": {
      "provenance": []
    }
  },
  "nbformat": 4,
  "nbformat_minor": 0
}